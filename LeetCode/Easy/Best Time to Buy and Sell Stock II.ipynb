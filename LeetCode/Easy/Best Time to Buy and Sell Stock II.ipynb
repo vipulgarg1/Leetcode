{
 "cells": [
  {
   "cell_type": "markdown",
   "metadata": {},
   "source": [
    "Problem 2 -https://leetcode.com/problems/best-time-to-buy-and-sell-stock-ii/solution/ "
   ]
  },
  {
   "cell_type": "markdown",
   "metadata": {},
   "source": [
    "This solution follows the logic used in Approach 2 itself, but with only a slight variation.\n",
    "In this case, instead of looking for every peak following a valley, we can simply go on crawling over the slope \n",
    "and keep on adding the profit obtained from every consecutive transaction. In the end,we will be using the peaks \n",
    "and valleys effectively, but we need not track the costs corresponding to the peaks and valleys along with the maximum \n",
    "profit, but we can directly keep on adding the difference between the consecutive numbers of the array if the \n",
    "second number is larger than the first one, and at the total sum we obtain will be the maximum profit.\n",
    "This approach will simplify the solution. This can be made clearer"
   ]
  },
  {
   "cell_type": "code",
   "execution_count": 11,
   "metadata": {},
   "outputs": [
    {
     "name": "stdout",
     "output_type": "stream",
     "text": [
      "7,6,5,4,3,2,1\n",
      "Max Profit is 0\n"
     ]
    }
   ],
   "source": [
    "class solution:\n",
    "    def maxProfit( self, prices):\n",
    "        \"\"\"\n",
    "\n",
    "        :type prices: List[int]\n",
    "        \"\"\"\n",
    "        if len(prices) == 0:\n",
    "            return 0\n",
    "        else:\n",
    "            maxprofit = 0\n",
    "            for i in range(len(prices)-1):\n",
    "                if prices[i] > prices[i+1]:\n",
    "                    continue\n",
    "                else:\n",
    "                    maxprofit = prices[i+1] - prices[i] + maxprofit\n",
    "\n",
    "        return maxprofit\n",
    "\n",
    "s = solution()\n",
    "priceslist = [int(i) for i in input().split(',')]\n",
    "profit = s.maxProfit(priceslist)\n",
    "print(f\"Max Profit is {profit}\")"
   ]
  }
 ],
 "metadata": {
  "kernelspec": {
   "display_name": "Python 3",
   "language": "python",
   "name": "python3"
  },
  "language_info": {
   "codemirror_mode": {
    "name": "ipython",
    "version": 3
   },
   "file_extension": ".py",
   "mimetype": "text/x-python",
   "name": "python",
   "nbconvert_exporter": "python",
   "pygments_lexer": "ipython3",
   "version": "3.7.4"
  }
 },
 "nbformat": 4,
 "nbformat_minor": 2
}
