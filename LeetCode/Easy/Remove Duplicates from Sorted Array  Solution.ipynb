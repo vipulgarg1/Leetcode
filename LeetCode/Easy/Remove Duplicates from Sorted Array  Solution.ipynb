{
 "cells": [
  {
   "cell_type": "markdown",
   "metadata": {},
   "source": [
    "Problem -https://leetcode.com/explore/interview/card/top-interview-questions-easy/92/array/727/"
   ]
  },
  {
   "cell_type": "markdown",
   "metadata": {},
   "source": [
    "# This is Solution 1"
   ]
  },
  {
   "cell_type": "code",
   "execution_count": 12,
   "metadata": {},
   "outputs": [
    {
     "name": "stdout",
     "output_type": "stream",
     "text": [
      "[0, 1, 2, 3, 4]\n"
     ]
    }
   ],
   "source": [
    "class Solution:\n",
    "    def removeDuplicates ( self, nums):\n",
    "        if len(nums) == 0:\n",
    "            return 0\n",
    "        else:\n",
    "            slow = 0\n",
    "            fast = 1\n",
    "            for i in range(len(nums) - 1):\n",
    "                if nums[i] == nums[i + 1]:\n",
    "                    fast += 1\n",
    "                else:\n",
    "                    nums[ slow + 1 ] = nums[ fast ]\n",
    "                    slow += 1\n",
    "                    fast += 1\n",
    "\n",
    "        return slow + 1\n",
    "\n",
    "nums = [0,0,1,1,1,2,2,3,3,4]\n",
    "sln = Solution()\n",
    "length = sln.removeDuplicates(nums)\n",
    "\n",
    "list_p = []\n",
    "for i in nums[0:length]:\n",
    "    list_p.append(i)\n",
    "print(list_p)"
   ]
  },
  {
   "cell_type": "markdown",
   "metadata": {},
   "source": [
    "# This is Solution 2 Recommended sln"
   ]
  },
  {
   "cell_type": "markdown",
   "metadata": {},
   "source": [
    "Algorithm steps for Problem1-\n",
    "1. Since the array is already sorted, we can keep two pointers i and j, where i is the slow-runner while j\n",
    "is the fast-runner. As long as nums[i] = nums[j]nums[i]=nums[j], we increment j to skip the duplicate.\n",
    "When we encounter nums[j]!= nums[i]the duplicate run has ended so we must copy its value to nums[i + 1].\n",
    "i is then incremented and we repeat the same process again until j reaches the end of array."
   ]
  },
  {
   "cell_type": "code",
   "execution_count": 13,
   "metadata": {},
   "outputs": [
    {
     "name": "stdout",
     "output_type": "stream",
     "text": [
      "[0, 1, 2, 3, 4]\n"
     ]
    }
   ],
   "source": [
    "class Solution:\n",
    "    def removeDuplicates ( self, nums):\n",
    "        i = 0\n",
    "        for num in nums:\n",
    "            if num != nums[ i ]:\n",
    "                i += 1\n",
    "                nums[ i ] = num\n",
    "        return i + 1\n",
    "\n",
    "\n",
    "nums = [0,0,1,1,1,2,2,3,3,4]\n",
    "# nums = [1,1,2]\n",
    "sln = Solution()\n",
    "length = sln.removeDuplicates(nums)\n",
    "\n",
    "list_p = []\n",
    "for i in nums[0:length]:\n",
    "    list_p.append(i)\n",
    "print(list_p)"
   ]
  }
 ],
 "metadata": {
  "kernelspec": {
   "display_name": "Python 3",
   "language": "python",
   "name": "python3"
  },
  "language_info": {
   "codemirror_mode": {
    "name": "ipython",
    "version": 3
   },
   "file_extension": ".py",
   "mimetype": "text/x-python",
   "name": "python",
   "nbconvert_exporter": "python",
   "pygments_lexer": "ipython3",
   "version": "3.7.4"
  }
 },
 "nbformat": 4,
 "nbformat_minor": 2
}
